{
 "cells": [
  {
   "cell_type": "code",
   "execution_count": null,
   "id": "31c34f66",
   "metadata": {},
   "outputs": [],
   "source": [
    "import pandas as pd\n",
    "import numpy as np\n",
    "import os\n",
    "from sqlalchemy import create_engine\n",
    "#from config import username, password\n",
    "import psycopg2\n",
    "\n",
    "from config import username\n",
    "from config import password"
   ]
  },
  {
   "cell_type": "code",
   "execution_count": null,
   "id": "5c7d4296",
   "metadata": {},
   "outputs": [],
   "source": [
    "#read cities data file\n",
    "wv1 = pd.read_csv(\"Resources\\WV1.csv\",header=[0,3])\n",
    "wv1.head()"
   ]
  },
  {
   "cell_type": "code",
   "execution_count": null,
   "id": "61d14be3",
   "metadata": {},
   "outputs": [],
   "source": [
    "wv1.columns=wv1.columns.map(\"_\".join)\n",
    "wv1.head()"
   ]
  },
  {
   "cell_type": "code",
   "execution_count": null,
   "id": "258df4b0",
   "metadata": {},
   "outputs": [],
   "source": [
    "#clean header name\n",
    "wv1.columns = [x.lower().replace(\" \",\"_\").replace(\",\",\"\") for x in wv1.columns]\n",
    "                    \n",
    "wv1.head()"
   ]
  },
  {
   "cell_type": "code",
   "execution_count": null,
   "id": "0089c124",
   "metadata": {},
   "outputs": [],
   "source": [
    "wv1_df=wv1.rename(columns ={\"unnamed:_0_level_0_unnamed:_0_level_1\":\"country\",\"unnamed:_7_level_0_2019\":\"per_capita_2019\",\\\n",
    "                          \"unnamed:_9_level_0_2019\":\"per_capita_growth_2019\"})\n",
    "wv1_df.head()"
   ]
  },
  {
   "cell_type": "code",
   "execution_count": null,
   "id": "31f319c0",
   "metadata": {},
   "outputs": [],
   "source": [
    "wv1_df.dtypes"
   ]
  },
  {
   "cell_type": "code",
   "execution_count": null,
   "id": "d6f722c3",
   "metadata": {},
   "outputs": [],
   "source": [
    "wv2 = pd.read_csv(\"Resources\\WV2.csv\",header=[0,3])\n",
    "wv2.head()"
   ]
  },
  {
   "cell_type": "code",
   "execution_count": null,
   "id": "553302d6",
   "metadata": {},
   "outputs": [],
   "source": [
    "wv2.columns=wv2.columns.map(\"_\".join)\n",
    "wv2.head()"
   ]
  },
  {
   "cell_type": "code",
   "execution_count": null,
   "id": "645ad87d",
   "metadata": {},
   "outputs": [],
   "source": [
    "wv2.columns = [x.lower().replace(\" \",\"_\").replace(\",\",\"\").replace(\"-\",\"_\") for x in wv2.columns]\n",
    "                    \n",
    "wv2.head()"
   ]
  },
  {
   "cell_type": "code",
   "execution_count": null,
   "id": "dcf83e91",
   "metadata": {},
   "outputs": [],
   "source": [
    "wv2.columns"
   ]
  },
  {
   "cell_type": "code",
   "execution_count": null,
   "id": "a1e5300d",
   "metadata": {},
   "outputs": [],
   "source": [
    "wv2_df=wv2.rename(columns ={\"unnamed:_0_level_0_unnamed:_0_level_1\":\"country\",\"unnamed:_10_level_0_2019\":\"contributing_family_workers_and_own_account_workers_female\",\\\n",
    "                           'incidence_of_hiv_ages_15_49_(per_1000_uninfected_population_ages_15_49)_2020':'incidence_of_hiv_ages_15_49_per1000_2020'})\n",
    "wv2_df.head()"
   ]
  },
  {
   "cell_type": "code",
   "execution_count": null,
   "id": "232993a8",
   "metadata": {},
   "outputs": [],
   "source": [
    "wv3 = pd.read_csv(\"Resources\\WV3.csv\",header=[0,3])\n",
    "wv3.head()"
   ]
  },
  {
   "cell_type": "code",
   "execution_count": null,
   "id": "ab534549",
   "metadata": {},
   "outputs": [],
   "source": [
    "wv3.columns=wv3.columns.map(\"_\".join)\n",
    "wv3.head()"
   ]
  },
  {
   "cell_type": "code",
   "execution_count": null,
   "id": "05989b89",
   "metadata": {},
   "outputs": [],
   "source": [
    "wv3.columns = [x.lower().replace(\" \",\"_\").replace(\"&\",\"\") for x in wv3.columns]\n",
    "                    \n",
    "wv3.head()"
   ]
  },
  {
   "cell_type": "code",
   "execution_count": null,
   "id": "d3fc3c2e",
   "metadata": {},
   "outputs": [],
   "source": [
    "wv3_df=wv3.rename(columns ={\"unnamed:_0_level_0_unnamed:_0_level_1\":\"country\", \"ambient_pm2.5_air_pollution_2016\":\"ambient_pm2_5_air_pollution_2016\"})\n",
    "wv3_df.head()"
   ]
  },
  {
   "cell_type": "code",
   "execution_count": null,
   "id": "06440d6f",
   "metadata": {},
   "outputs": [],
   "source": [
    "wv1_df.drop(wv1.index[227:400],inplace=True)\n",
    "wv2_df.drop(wv2.index[226:400],inplace=True)\n",
    "wv3_df.drop(wv3.index[226:400],inplace=True)\n",
    "\n",
    "wv1_df"
   ]
  },
  {
   "cell_type": "code",
   "execution_count": null,
   "id": "ec2ac834",
   "metadata": {},
   "outputs": [],
   "source": [
    "wv1_df1=wv1_df.replace(to_replace=\"..\", value=\"NaN\")\n",
    "wv2_df1=wv2_df.replace(to_replace=\"..\", value=\"NaN\")\n",
    "wv3_df1=wv3_df.replace(to_replace=\"..\", value=\"NaN\")\n",
    "\n",
    "wv1_df1"
   ]
  },
  {
   "cell_type": "code",
   "execution_count": null,
   "id": "5c2db396",
   "metadata": {},
   "outputs": [],
   "source": []
  },
  {
   "cell_type": "code",
   "execution_count": null,
   "id": "61a4e504",
   "metadata": {},
   "outputs": [],
   "source": [
    "wv1_df2=wv1_df1.replace(\",\", \"\", regex=True)\n",
    "wv2_df2=wv2_df1.replace(\",\", \"\", regex=True)\n",
    "wv3_df2=wv3_df1.replace(\",\", \"\", regex=True)\n",
    "\n",
    "wv3_df2"
   ]
  },
  {
   "cell_type": "code",
   "execution_count": null,
   "id": "3fef99ea",
   "metadata": {},
   "outputs": [],
   "source": [
    "rds_connection_string = username + \":\" + password + \"@localhost:5432/world_development_indicators\"\n",
    "engine = create_engine(f'postgresql://{rds_connection_string}')"
   ]
  },
  {
   "cell_type": "code",
   "execution_count": null,
   "id": "0bd6b6d5",
   "metadata": {},
   "outputs": [],
   "source": [
    "engine.table_names()"
   ]
  },
  {
   "cell_type": "code",
   "execution_count": null,
   "id": "26eeacca",
   "metadata": {},
   "outputs": [],
   "source": [
    "wv1_df2.to_sql(name='economy_size', con=engine, if_exists='append', index=False)"
   ]
  },
  {
   "cell_type": "code",
   "execution_count": null,
   "id": "5946f4e1",
   "metadata": {},
   "outputs": [],
   "source": [
    "wv2_df2.to_sql(name='ending_poverty', con=engine, if_exists='append', index=False)"
   ]
  },
  {
   "cell_type": "code",
   "execution_count": null,
   "id": "3c8d1c66",
   "metadata": {},
   "outputs": [],
   "source": [
    "wv3_df2.to_sql(name='promoting_sustainability', con=engine, if_exists='append', index=False)"
   ]
  },
  {
   "cell_type": "code",
   "execution_count": null,
   "id": "df67ec30",
   "metadata": {},
   "outputs": [],
   "source": []
  },
  {
   "cell_type": "code",
   "execution_count": null,
   "id": "f9969c12",
   "metadata": {},
   "outputs": [],
   "source": []
  },
  {
   "cell_type": "code",
   "execution_count": null,
   "id": "b20933a2",
   "metadata": {},
   "outputs": [],
   "source": []
  },
  {
   "cell_type": "code",
   "execution_count": null,
   "id": "3969bd80",
   "metadata": {},
   "outputs": [],
   "source": []
  },
  {
   "cell_type": "code",
   "execution_count": null,
   "id": "d57f696b",
   "metadata": {},
   "outputs": [],
   "source": []
  },
  {
   "cell_type": "code",
   "execution_count": null,
   "id": "6262d94a",
   "metadata": {},
   "outputs": [],
   "source": [
    "# wv1_df1.dtypes"
   ]
  },
  {
   "cell_type": "code",
   "execution_count": null,
   "id": "a5228488",
   "metadata": {},
   "outputs": [],
   "source": [
    "# create table wv1\n",
    "# (\n",
    "# country                                               varchar,\n",
    "# population_2019                                       float,\n",
    "# surface_area_2019                                     float,\n",
    "# population_density_2019                               float,\n",
    "# gross_national_income_atlas_method_2019               float,\n",
    "# gross_national_income_per_capita_atlas_method_2019    float,\n",
    "# purchasing_power_parity_gross_national_income_2019    float,\n",
    "# per_capita_2019                                       float,\n",
    "# gross_domestic_product_2019                           float,\n",
    "# per_capita_growth_2019                                float\n",
    "# );"
   ]
  },
  {
   "cell_type": "code",
   "execution_count": null,
   "id": "5802d494",
   "metadata": {},
   "outputs": [],
   "source": [
    "# replacements = {'object': 'Varchar',\n",
    "#     'object': 'float',\n",
    "#   'object': 'float',\n",
    "#   'object': 'float',\n",
    "#   'object': 'int',\n",
    "#   'object': 'float',\n",
    "#   'object': 'float',\n",
    "#   'object': 'float',\n",
    "#   'object': 'float',\n",
    "#   'object': 'float'\n",
    "# }\n",
    "# replacements"
   ]
  },
  {
   "cell_type": "code",
   "execution_count": null,
   "id": "af40cf57",
   "metadata": {},
   "outputs": [],
   "source": [
    "# col_str = \", \" .join(\"{} {}\".format(n, d) for (n, d) in zip(wv1_df1.columns, wv1_df1.dtypes.replace(replacements)))\n",
    "# col_str "
   ]
  },
  {
   "cell_type": "code",
   "execution_count": null,
   "id": "751a27e6",
   "metadata": {},
   "outputs": [],
   "source": [
    "# connection = psycopg2.connect(database=\"world_dev_db\", user='postgres', password='bootcamp', host='127.0.0.1', port= '5432')\n",
    "# #\n",
    "# cursor=connection.cursor()\n",
    "# print('opened database successfully')"
   ]
  },
  {
   "cell_type": "code",
   "execution_count": null,
   "id": "83135f63",
   "metadata": {},
   "outputs": [],
   "source": [
    "# cursor.execute(\"drop table if exists wy1;\")"
   ]
  },
  {
   "cell_type": "code",
   "execution_count": null,
   "id": "5ee1bfb4",
   "metadata": {},
   "outputs": [],
   "source": [
    "# #create table\n",
    "# cursor.execute(\"create table wy1\\\n",
    "# (country varchar, population_2019 float, surface_area_2019 float, population_density_2019 float, gross_national_income_atlas_method_2019 float, gross_national_income_per_capita_atlas_method_2019 float, purchasing_power_parity_gross_national_income_2019 float, per_capita_2019 float, gross_domestic_product_2019 float, per_capita_growth_2019 float)\")"
   ]
  },
  {
   "cell_type": "code",
   "execution_count": null,
   "id": "71928991",
   "metadata": {},
   "outputs": [],
   "source": []
  },
  {
   "cell_type": "code",
   "execution_count": null,
   "id": "1cebf331",
   "metadata": {},
   "outputs": [],
   "source": []
  },
  {
   "cell_type": "code",
   "execution_count": null,
   "id": "78115b0f",
   "metadata": {},
   "outputs": [],
   "source": [
    "# wv1_df1.to_csv('Resources\\wv1_final.csv',index=False, encoding = 'utf-8')\n",
    "# wv2_df1.to_csv('Resources\\wv2_final.csv',index=False, encoding = 'utf-8')\n",
    "# wv3_df1.to_csv('Resources\\wv3_final.csv',index=False, encoding = 'utf-8')"
   ]
  },
  {
   "cell_type": "code",
   "execution_count": null,
   "id": "c4b0ec2e",
   "metadata": {},
   "outputs": [],
   "source": [
    "# my_file1=open('resources\\wv1_final.csv')"
   ]
  },
  {
   "cell_type": "code",
   "execution_count": null,
   "id": "cb165eb7",
   "metadata": {},
   "outputs": [],
   "source": [
    "# SQL_STATEMENT = \"\"\"\n",
    "# COPY wv1 FROM STDIN WITH\n",
    "#     CSV\n",
    "#     HEADER\n",
    "#     DELIMITER AS \",\"\n",
    "\n",
    "# cursor.copy_expert(sql=SQL_STATEMENT, file=my_file1)\n",
    "# \"\"\"\n",
    "# print('file copied to db')"
   ]
  },
  {
   "cell_type": "code",
   "execution_count": null,
   "id": "9429ceb4",
   "metadata": {},
   "outputs": [],
   "source": []
  }
 ],
 "metadata": {
  "kernelspec": {
   "display_name": "Python 3",
   "language": "python",
   "name": "python3"
  },
  "language_info": {
   "codemirror_mode": {
    "name": "ipython",
    "version": 3
   },
   "file_extension": ".py",
   "mimetype": "text/x-python",
   "name": "python",
   "nbconvert_exporter": "python",
   "pygments_lexer": "ipython3",
   "version": "3.8.8"
  }
 },
 "nbformat": 4,
 "nbformat_minor": 5
}
