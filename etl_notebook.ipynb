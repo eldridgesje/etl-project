{
 "cells": [
  {
   "cell_type": "code",
   "execution_count": null,
   "id": "31c34f66",
   "metadata": {},
   "outputs": [],
   "source": [
    "#import dependencies\n",
    "\n",
    "import pandas as pd\n",
    "import numpy as np\n",
    "import os\n",
    "from sqlalchemy import create_engine\n",
    "#from config import username, password\n",
    "import psycopg2\n",
    "\n",
    "from config import username\n",
    "from config import password"
   ]
  },
  {
   "cell_type": "code",
   "execution_count": null,
   "id": "5c7d4296",
   "metadata": {},
   "outputs": [],
   "source": [
    "#read economic data data file\n",
    "\n",
    "wv1 = pd.read_csv(\"Resources\\WV1.csv\",header=[0,3])\n",
    "wv1.head()"
   ]
  },
  {
   "cell_type": "code",
   "execution_count": null,
   "id": "61d14be3",
   "metadata": {},
   "outputs": [],
   "source": [
    "wv1.columns=wv1.columns.map(\"_\".join)\n",
    "wv1.head()"
   ]
  },
  {
   "cell_type": "code",
   "execution_count": null,
   "id": "258df4b0",
   "metadata": {},
   "outputs": [],
   "source": [
    "#clean header names\n",
    "\n",
    "wv1.columns = [x.lower().replace(\" \",\"_\").replace(\",\",\"\") for x in wv1.columns]\n",
    "                    \n",
    "wv1.head()"
   ]
  },
  {
   "cell_type": "code",
   "execution_count": null,
   "id": "0089c124",
   "metadata": {},
   "outputs": [],
   "source": [
    "wv1_df=wv1.rename(columns ={\"unnamed:_0_level_0_unnamed:_0_level_1\":\"country\",\"unnamed:_7_level_0_2019\":\"per_capita_2019\",\\\n",
    "                          \"unnamed:_9_level_0_2019\":\"per_capita_growth_2019\"})\n",
    "wv1_df.head()"
   ]
  },
  {
   "cell_type": "code",
   "execution_count": null,
   "id": "31f319c0",
   "metadata": {},
   "outputs": [],
   "source": [
    "wv1_df.dtypes"
   ]
  },
  {
   "cell_type": "code",
   "execution_count": null,
   "id": "d6f722c3",
   "metadata": {},
   "outputs": [],
   "source": [
    "#read poverty data file\n",
    "\n",
    "wv2 = pd.read_csv(\"Resources\\WV2.csv\",header=[0,3])\n",
    "wv2.head()"
   ]
  },
  {
   "cell_type": "code",
   "execution_count": null,
   "id": "553302d6",
   "metadata": {},
   "outputs": [],
   "source": [
    "#clean header names\n",
    "\n",
    "wv2.columns=wv2.columns.map(\"_\".join)\n",
    "wv2.head()"
   ]
  },
  {
   "cell_type": "code",
   "execution_count": null,
   "id": "645ad87d",
   "metadata": {},
   "outputs": [],
   "source": [
    "wv2.columns = [x.lower().replace(\" \",\"_\").replace(\",\",\"\").replace(\"-\",\"_\") for x in wv2.columns]\n",
    "                    \n",
    "wv2.head()"
   ]
  },
  {
   "cell_type": "code",
   "execution_count": null,
   "id": "dcf83e91",
   "metadata": {},
   "outputs": [],
   "source": [
    "wv2.columns"
   ]
  },
  {
   "cell_type": "code",
   "execution_count": null,
   "id": "a1e5300d",
   "metadata": {},
   "outputs": [],
   "source": [
    "wv2_df=wv2.rename(columns ={\"unnamed:_0_level_0_unnamed:_0_level_1\":\"country\",\"unnamed:_10_level_0_2019\":\"contributing_family_workers_and_own_account_workers_female\",\\\n",
    "                           'incidence_of_hiv_ages_15_49_(per_1000_uninfected_population_ages_15_49)_2020':'incidence_of_hiv_ages_15_49_per1000_2020'})\n",
    "wv2_df.head()"
   ]
  },
  {
   "cell_type": "code",
   "execution_count": null,
   "id": "232993a8",
   "metadata": {},
   "outputs": [],
   "source": [
    "#read sustainability data file\n",
    "\n",
    "wv3 = pd.read_csv(\"Resources\\WV3.csv\",header=[0,3])\n",
    "wv3.head()"
   ]
  },
  {
   "cell_type": "code",
   "execution_count": null,
   "id": "ab534549",
   "metadata": {},
   "outputs": [],
   "source": [
    "#clean header names\n",
    "\n",
    "wv3.columns=wv3.columns.map(\"_\".join)\n",
    "wv3.head()"
   ]
  },
  {
   "cell_type": "code",
   "execution_count": null,
   "id": "05989b89",
   "metadata": {},
   "outputs": [],
   "source": [
    "wv3.columns = [x.lower().replace(\" \",\"_\").replace(\"&\",\"\") for x in wv3.columns]\n",
    "                    \n",
    "wv3.head()"
   ]
  },
  {
   "cell_type": "code",
   "execution_count": null,
   "id": "d3fc3c2e",
   "metadata": {},
   "outputs": [],
   "source": [
    "wv3_df=wv3.rename(columns ={\"unnamed:_0_level_0_unnamed:_0_level_1\":\"country\", \"ambient_pm2.5_air_pollution_2016\":\"ambient_pm2_5_air_pollution_2016\"})\n",
    "wv3_df.head()"
   ]
  },
  {
   "cell_type": "code",
   "execution_count": null,
   "id": "06440d6f",
   "metadata": {},
   "outputs": [],
   "source": [
    "#drop empty rows\n",
    "\n",
    "wv1_df.drop(wv1.index[227:400],inplace=True)\n",
    "wv2_df.drop(wv2.index[226:400],inplace=True)\n",
    "wv3_df.drop(wv3.index[226:400],inplace=True)\n",
    "\n",
    "wv1_df"
   ]
  },
  {
   "cell_type": "code",
   "execution_count": null,
   "id": "ec2ac834",
   "metadata": {},
   "outputs": [],
   "source": [
    "#drop invalid cell data\n",
    "\n",
    "wv1_df1=wv1_df.replace(to_replace=\"..\", value=\"NaN\")\n",
    "wv2_df1=wv2_df.replace(to_replace=\"..\", value=\"NaN\")\n",
    "wv3_df1=wv3_df.replace(to_replace=\"..\", value=\"NaN\")\n",
    "\n",
    "wv1_df1"
   ]
  },
  {
   "cell_type": "code",
   "execution_count": null,
   "id": "61a4e504",
   "metadata": {},
   "outputs": [],
   "source": [
    "wv1_df2=wv1_df1.replace(\",\", \"\", regex=True)\n",
    "wv2_df2=wv2_df1.replace(\",\", \"\", regex=True)\n",
    "wv3_df2=wv3_df1.replace(\",\", \"\", regex=True)\n",
    "\n",
    "wv3_df2"
   ]
  },
  {
   "cell_type": "code",
   "execution_count": null,
   "id": "3fef99ea",
   "metadata": {},
   "outputs": [],
   "source": [
    "#create postgres connection\n",
    "\n",
    "rds_connection_string = username + \":\" + password + \"@localhost:5432/world_development_indicators\"\n",
    "engine = create_engine(f'postgresql://{rds_connection_string}')"
   ]
  },
  {
   "cell_type": "code",
   "execution_count": null,
   "id": "0bd6b6d5",
   "metadata": {},
   "outputs": [],
   "source": [
    "engine.table_names()"
   ]
  },
  {
   "cell_type": "code",
   "execution_count": null,
   "id": "26eeacca",
   "metadata": {},
   "outputs": [],
   "source": [
    "#write data to economy_size table\n",
    "\n",
    "wv1_df2.to_sql(name='economy_size', con=engine, if_exists='append', index=False)"
   ]
  },
  {
   "cell_type": "code",
   "execution_count": null,
   "id": "5946f4e1",
   "metadata": {},
   "outputs": [],
   "source": [
    "#write data to ending_poverty table\n",
    "\n",
    "wv2_df2.to_sql(name='ending_poverty', con=engine, if_exists='append', index=False)"
   ]
  },
  {
   "cell_type": "code",
   "execution_count": null,
   "id": "3c8d1c66",
   "metadata": {},
   "outputs": [],
   "source": [
    "#write data to promoting_sustainability table\n",
    "\n",
    "wv3_df2.to_sql(name='promoting_sustainability', con=engine, if_exists='append', index=False)"
   ]
  }
 ],
 "metadata": {
  "kernelspec": {
   "display_name": "Python 3",
   "language": "python",
   "name": "python3"
  },
  "language_info": {
   "codemirror_mode": {
    "name": "ipython",
    "version": 3
   },
   "file_extension": ".py",
   "mimetype": "text/x-python",
   "name": "python",
   "nbconvert_exporter": "python",
   "pygments_lexer": "ipython3",
   "version": "3.8.8"
  }
 },
 "nbformat": 4,
 "nbformat_minor": 5
}
